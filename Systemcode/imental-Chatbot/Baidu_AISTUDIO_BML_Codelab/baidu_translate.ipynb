{
 "cells": [
  {
   "cell_type": "code",
   "execution_count": 1,
   "id": "f425f7ea-4bcf-4ca3-b53e-4f657e3ddc9e",
   "metadata": {
    "execution": {
     "iopub.execute_input": "2021-10-24T07:01:17.768868Z",
     "iopub.status.busy": "2021-10-24T07:01:17.768543Z",
     "iopub.status.idle": "2021-10-24T07:01:17.820746Z",
     "shell.execute_reply": "2021-10-24T07:01:17.820196Z",
     "shell.execute_reply.started": "2021-10-24T07:01:17.768819Z"
    }
   },
   "outputs": [],
   "source": [
    "import requests\r\n",
    "import random\r\n",
    "import json\r\n",
    "from hashlib import md5\r\n",
    "import time\r\n",
    "import threading\r\n",
    "mutex = threading.Lock()\r\n",
    "\r\n",
    "# Set your own appid/appkey. \r\n",
    "appid = '20211020000977904' #your personel appid which you can apply for free from baidu\r\n",
    "appkey = '58TUwilYmErjJBZDmD0n' #your personel appkey\r\n",
    "\r\n",
    "endpoint = 'http://api.fanyi.baidu.com'\r\n",
    "path = '/api/trans/vip/translate'\r\n",
    "url = endpoint + path\r\n",
    "headers = {'Content-Type': 'application/x-www-form-urlencoded'}\r\n",
    "last_send_time = 0\r\n",
    "\r\n",
    "\r\n",
    "# Generate salt and sign\r\n",
    "def make_md5(s, encoding='utf-8'):\r\n",
    "    return md5(s.encode(encoding)).hexdigest()\r\n",
    "\r\n",
    "\r\n",
    "#auto to target\r\n",
    "def translate2auto(query_txt, from_lang = \"auto\", to_lang = \"zh\"):\r\n",
    "    global last_send_time;\r\n",
    "    mutex.acquire()\r\n",
    "    cur_time = time.time() * 1000\r\n",
    "    diff = cur_time - last_send_time\r\n",
    "    # print(\"diff: \", diff)\r\n",
    "    if diff < 1000:\r\n",
    "        time.sleep((1000 - diff) / 1000.0)\r\n",
    "\r\n",
    "    salt = random.randint(32768, 65536)\r\n",
    "    print(query_txt)\r\n",
    "    sign = make_md5(appid + query_txt + str(salt) + appkey)\r\n",
    "    payload = {'appid': appid, 'q': query_txt, 'from': from_lang, 'to': to_lang, 'salt': salt, 'sign': sign}\r\n",
    "\r\n",
    "    # Send request\r\n",
    "    r = requests.post(url, params=payload, headers=headers)\r\n",
    "    result = r.json()\r\n",
    "\r\n",
    "    # Show response\r\n",
    "    print(result)\r\n",
    "    last_send_time = time.time()*1000\r\n",
    "    # print(\"last_send_time: \", last_send_time)\r\n",
    "    mutex.release()\r\n",
    "    return result[\"from\"], result[\"trans_result\"][0][\"dst\"]"
   ]
  },
  {
   "cell_type": "code",
   "execution_count": 2,
   "id": "720df281-3ce3-4717-a4b3-c7e05fabc27e",
   "metadata": {
    "execution": {
     "iopub.execute_input": "2021-10-24T07:01:20.782583Z",
     "iopub.status.busy": "2021-10-24T07:01:20.782028Z",
     "iopub.status.idle": "2021-10-24T07:01:23.312698Z",
     "shell.execute_reply": "2021-10-24T07:01:23.311986Z",
     "shell.execute_reply.started": "2021-10-24T07:01:20.782333Z"
    }
   },
   "outputs": [
    {
     "name": "stdout",
     "output_type": "stream",
     "text": [
      "Guten Tag!\n",
      "{'from': 'de', 'to': 'en', 'trans_result': [{'src': 'Guten Tag!', 'dst': 'Good afternoon.'}]}\n",
      "('de', 'Good afternoon.')\n",
      "study hard\n",
      "{'from': 'en', 'to': 'en', 'trans_result': [{'src': 'study hard', 'dst': 'study hard'}]}\n",
      "('en', 'study hard')\n",
      "everything will be ok\n",
      "{'from': 'en', 'to': 'zh', 'trans_result': [{'src': 'everything will be ok', 'dst': '一切都会好起来的'}]}\n",
      "('en', '一切都会好起来的')\n"
     ]
    }
   ],
   "source": [
    "print(translate2auto(\"Guten Tag!\", \"auto\", \"en\"))\r\n",
    "print(translate2auto(\"study hard\", \"auto\", \"en\"))\r\n",
    "print(translate2auto(\"everything will be ok\", \"auto\", \"zh\"))"
   ]
  }
 ],
 "metadata": {
  "kernelspec": {
   "display_name": "Python 3",
   "language": "python",
   "name": "py35-paddle1.2.0"
  },
  "language_info": {
   "codemirror_mode": {
    "name": "ipython",
    "version": 3
   },
   "file_extension": ".py",
   "mimetype": "text/x-python",
   "name": "python",
   "nbconvert_exporter": "python",
   "pygments_lexer": "ipython3",
   "version": "3.7.4"
  }
 },
 "nbformat": 4,
 "nbformat_minor": 5
}
